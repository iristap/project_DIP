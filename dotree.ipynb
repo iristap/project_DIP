{
 "cells": [
  {
   "cell_type": "code",
   "execution_count": 1,
   "metadata": {},
   "outputs": [
    {
     "name": "stdout",
     "output_type": "stream",
     "text": [
      "ไฟล์ CSV ถูกสร้างเรียบร้อยแล้ว: data.csv\n"
     ]
    }
   ],
   "source": [
    "import csv\n",
    "\n",
    "data = [\n",
    "    [\"ความเข้มแสง\", \"กว้าง\", \"ยาว\", \"segment\", \"label\"],\n",
    "    [96.16471460340993, 95, 71, 122.08, \"BENIGN\"],\n",
    "    [107.47806233869366, 73, 69, 126.17, \"BENIGN\"],\n",
    "    [110.57202011239278, 69, 49, 127.81, \"BENIGN\"],\n",
    "    [119.79478260869566, 46, 50, 141.94, \"BENIGN\"],\n",
    "    [130.01270417422867, 57, 29, 143.76, \"BENIGN\"],\n",
    "    [127.05925925925926, 45, 21, 143.20, \"BENIGN\"],\n",
    "    [133.08651026392963, 31, 22, 140.05, \"BENIGN\"],\n",
    "    [110.55075918079096, 118, 96, 150.96, \"BENIGN\"],\n",
    "    [124.29990966576332, 27, 41, 131.17, \"BENIGN\"],\n",
    "    [87.79166666666667, 72, 80, 121.67, \"BENIGN\"],\n",
    "    [130.56067251461988, 38, 36, 154.12, \"MALIGNANT\"],\n",
    "    [128.67857142857142, 36, 42, 143.35, \"MALIGNANT\"],\n",
    "    [109.63634453781512, 70, 68, 135.20, \"MALIGNANT\"],\n",
    "    [120.69459219858156, 96, 47, 134.25, \"MALIGNANT\"],\n",
    "    [138.5639097744361, 19, 14, 155.03, \"MALIGNANT\"],\n",
    "    [126.84833333333333, 24, 25, 155.04, \"MALIGNANT\"],\n",
    "    [135.81632653061226, 21, 14, 145.89, \"MALIGNANT\"],\n",
    "    [109.79617117117117, 72, 37, 131.86, \"MALIGNANT\"],\n",
    "    [104.13078118927322, 83, 62, 143.35, \"MALIGNANT\"],\n",
    "    [109.50970632155301, 82, 49, 154.12, \"MALIGNANT\"]\n",
    "]\n",
    "\n",
    "csv_filename = \"data.csv\"\n",
    "\n",
    "with open(csv_filename, 'w', newline='', encoding='utf-8') as csv_file:\n",
    "    writer = csv.writer(csv_file)\n",
    "    writer.writerows(data)\n",
    "\n",
    "print(\"ไฟล์ CSV ถูกสร้างเรียบร้อยแล้ว:\", csv_filename)\n"
   ]
  }
 ],
 "metadata": {
  "kernelspec": {
   "display_name": "Python 3",
   "language": "python",
   "name": "python3"
  },
  "language_info": {
   "codemirror_mode": {
    "name": "ipython",
    "version": 3
   },
   "file_extension": ".py",
   "mimetype": "text/x-python",
   "name": "python",
   "nbconvert_exporter": "python",
   "pygments_lexer": "ipython3",
   "version": "3.12.0"
  }
 },
 "nbformat": 4,
 "nbformat_minor": 2
}
